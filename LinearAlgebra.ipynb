{
 "cells": [
  {
   "cell_type": "markdown",
   "metadata": {},
   "source": [
    "# Linear Algebra"
   ]
  },
  {
   "cell_type": "markdown",
   "metadata": {},
   "source": [
    "## Chapter 1: Numerical vector space"
   ]
  },
  {
   "cell_type": "markdown",
   "metadata": {},
   "source": [
    "$x \\in A$: x is an **ELEMENT** of A  \n",
    "$A \\subseteq B$: A is **SUBSET** of B  \n",
    "$\\varnothing, \\emptyset$: Empty set  \n",
    "$A \\cap B$: Intersection  \n",
    "$A \\cup B$: Union  \n",
    "$A^c, \\overline{A} = \\{x \\in U \\mid x \\notin A\\}$: Complement  \n",
    "$A \\setminus B, A - B = \\{x \\mid x \\in A \\cap x \\notin B\\}$: Difference  \n",
    "$\\forall x$: All x  \n",
    "$\\exists x$: A x  "
   ]
  },
  {
   "cell_type": "markdown",
   "metadata": {},
   "source": [
    "### Vector Class"
   ]
  },
  {
   "cell_type": "code",
   "execution_count": null,
   "metadata": {},
   "outputs": [],
   "source": [
    "class vector(list):\n",
    "    \n",
    "    def __init__(self, __content__):\n",
    "        if not isinstance(__content__, list):\n",
    "            raise TypeError('入力はlist型のみでよろしく')\n",
    "        list.__init__(self, __content__)\n",
    "    \n",
    "    \n",
    "    def broadcast(func):\n",
    "        def inner(self, other):\n",
    "            if isinstance(other, (int, float)):\n",
    "                other = [other] * len(self)\n",
    "            if isinstance(other, list):\n",
    "                if len(self) != len(other):\n",
    "                    raise ArithmeticError('あれ？サイズ違うっぽくない？')\n",
    "                return func(self, other)\n",
    "            raise TypeError('なんか思ってたんとちゃう...!!!')\n",
    "        return inner\n",
    "    \n",
    "    \n",
    "    # 足し算\n",
    "    @broadcast\n",
    "    def __add__(self, other):\n",
    "        return vector([x + y for x, y in zip(self, other)])\n",
    "    \n",
    "    def __radd__(self, other):\n",
    "        return self.__add__(other)\n",
    "    \n",
    "    \n",
    "    # 引き算\n",
    "    @broadcast\n",
    "    def __sub__(self, other):\n",
    "        return vector([x - y for x, y in zip(self, other)])\n",
    "    \n",
    "    @broadcast\n",
    "    def __rsub__(self, other):\n",
    "        return vector([x - y for x, y in zip(other, self)])\n",
    "    \n",
    "    \n",
    "    # 掛け算\n",
    "    @broadcast\n",
    "    def __mul__(self, other):\n",
    "        return vector([x * y for x, y in zip(self, other)])\n",
    "    \n",
    "    def __rmul__(self, other):\n",
    "        return self.__mul__(other)\n",
    "    \n",
    "    \n",
    "    # 割り算\n",
    "    @broadcast\n",
    "    def __truediv__(self, other):\n",
    "        return vector([x / y for x, y in zip(self, other)])\n",
    "    \n",
    "    @broadcast\n",
    "    def __rtruediv__(self, other):\n",
    "        return vector([x / y for x, y in zip(other, self)])\n",
    "    \n",
    "    \n",
    "    # 累乗\n",
    "    @broadcast\n",
    "    def __pow__(self, other):\n",
    "        return vector([x ** y for x, y in zip(self, other)])\n",
    "    \n",
    "    \n",
    "    # 線形結合\n",
    "    def __matmul__(self, other):\n",
    "        return sum(self.__mul__(other))\n",
    "    \n",
    "    def __rmatmul__(self, other):\n",
    "        return sum(self.__mul__(other))\n",
    "    \n",
    "    \n",
    "    def __str__(self):\n",
    "        return '[%s]' % (' '.join(map(str, self)))\n",
    "    \n",
    "    \n",
    "    def __repr__(self):\n",
    "        return '%s(%s)' % (self.__class__.__name__, super().__repr__())"
   ]
  },
  {
   "cell_type": "markdown",
   "metadata": {},
   "source": [
    "### Matrix Class"
   ]
  },
  {
   "cell_type": "code",
   "execution_count": null,
   "metadata": {},
   "outputs": [],
   "source": [
    "def row(A, n):\n",
    "    return A[n]"
   ]
  },
  {
   "cell_type": "code",
   "execution_count": null,
   "metadata": {},
   "outputs": [],
   "source": [
    "def col(A, n):\n",
    "    return [a[n] for a in A]"
   ]
  },
  {
   "cell_type": "code",
   "execution_count": null,
   "metadata": {},
   "outputs": [],
   "source": [
    "def transpose(A):\n",
    "    return [col(A, i) for i in range(len(row(A, 0)))]\n",
    "t = transpose"
   ]
  },
  {
   "cell_type": "code",
   "execution_count": null,
   "metadata": {},
   "outputs": [],
   "source": [
    "def eye(n):\n",
    "    return [[int(i == j) for i in range(n)] for j in range(n)]"
   ]
  },
  {
   "cell_type": "code",
   "execution_count": null,
   "metadata": {},
   "outputs": [],
   "source": [
    "def zeros(n, m=0):\n",
    "    if m > 0:\n",
    "        return [[0 for i in range(m)] for j in range(n)]\n",
    "    return [[0 for i in range(n)] for j in range(n)]"
   ]
  },
  {
   "cell_type": "markdown",
   "metadata": {},
   "source": [
    "### Operation Checking"
   ]
  },
  {
   "cell_type": "markdown",
   "metadata": {},
   "source": [
    "#### Vector Calculation"
   ]
  },
  {
   "cell_type": "code",
   "execution_count": null,
   "metadata": {},
   "outputs": [],
   "source": [
    "A = vector([1, 2, 3])"
   ]
  },
  {
   "cell_type": "code",
   "execution_count": null,
   "metadata": {},
   "outputs": [],
   "source": [
    "A + 10 + 5"
   ]
  },
  {
   "cell_type": "code",
   "execution_count": null,
   "metadata": {},
   "outputs": [],
   "source": [
    "10 + (5 + A)"
   ]
  },
  {
   "cell_type": "code",
   "execution_count": null,
   "metadata": {},
   "outputs": [],
   "source": [
    "A - 1 - 2"
   ]
  },
  {
   "cell_type": "code",
   "execution_count": null,
   "metadata": {},
   "outputs": [],
   "source": [
    "10 - (3 - A)"
   ]
  },
  {
   "cell_type": "code",
   "execution_count": null,
   "metadata": {},
   "outputs": [],
   "source": [
    "A * 2 * 1"
   ]
  },
  {
   "cell_type": "code",
   "execution_count": null,
   "metadata": {},
   "outputs": [],
   "source": [
    "1 * (2 * A)"
   ]
  },
  {
   "cell_type": "code",
   "execution_count": null,
   "metadata": {},
   "outputs": [],
   "source": [
    "A / 2 / 1"
   ]
  },
  {
   "cell_type": "code",
   "execution_count": null,
   "metadata": {},
   "outputs": [],
   "source": [
    "15 / (3 / A)"
   ]
  },
  {
   "cell_type": "code",
   "execution_count": null,
   "metadata": {},
   "outputs": [],
   "source": [
    "A @ A"
   ]
  },
  {
   "cell_type": "code",
   "execution_count": null,
   "metadata": {},
   "outputs": [],
   "source": [
    "A @ A[::-1]"
   ]
  },
  {
   "cell_type": "markdown",
   "metadata": {},
   "source": [
    "#### Matrix Calculation"
   ]
  },
  {
   "cell_type": "code",
   "execution_count": null,
   "metadata": {},
   "outputs": [],
   "source": [
    "A = [[1, 2], [3, 4]]\n",
    "B = [[5, 6], [7, 8]]"
   ]
  },
  {
   "cell_type": "code",
   "execution_count": null,
   "metadata": {},
   "outputs": [],
   "source": [
    "add(A, B)"
   ]
  },
  {
   "cell_type": "code",
   "execution_count": null,
   "metadata": {},
   "outputs": [],
   "source": [
    "sub(B, A)"
   ]
  },
  {
   "cell_type": "code",
   "execution_count": null,
   "metadata": {},
   "outputs": [],
   "source": [
    "add(B, multi(-1, A))"
   ]
  },
  {
   "cell_type": "code",
   "execution_count": null,
   "metadata": {},
   "outputs": [],
   "source": [
    "dot(A, B)"
   ]
  },
  {
   "cell_type": "code",
   "execution_count": null,
   "metadata": {},
   "outputs": [],
   "source": [
    "transpose(A)"
   ]
  },
  {
   "cell_type": "code",
   "execution_count": null,
   "metadata": {},
   "outputs": [],
   "source": [
    "t(A)"
   ]
  },
  {
   "cell_type": "code",
   "execution_count": null,
   "metadata": {},
   "outputs": [],
   "source": [
    "eye(3)"
   ]
  },
  {
   "cell_type": "code",
   "execution_count": null,
   "metadata": {},
   "outputs": [],
   "source": [
    "zeros(3)"
   ]
  },
  {
   "cell_type": "markdown",
   "metadata": {},
   "source": [
    "## Chapter2: Sweep Method"
   ]
  },
  {
   "cell_type": "code",
   "execution_count": null,
   "metadata": {},
   "outputs": [],
   "source": [
    "2 / np.array([1, 2, 3])"
   ]
  },
  {
   "cell_type": "code",
   "execution_count": null,
   "metadata": {},
   "outputs": [],
   "source": [
    "A = [[ 9, 2, 13],\n",
    "     [-3, 4,  5]]\n",
    "\n",
    "B = [[1, 1, 1, 2],\n",
    "     [1, 2, 3, 2],\n",
    "     [1, 3, 3, 0]]"
   ]
  },
  {
   "cell_type": "code",
   "execution_count": null,
   "metadata": {},
   "outputs": [],
   "source": [
    "def coef_sweeping(a, n):\n",
    "    if not a[n]:\n",
    "        raise ZeroDivisionError()\n",
    "    return list(map(lambda x: x / a[n], a))"
   ]
  },
  {
   "cell_type": "code",
   "execution_count": null,
   "metadata": {},
   "outputs": [],
   "source": [
    "def sweep(A):\n",
    "    n = len(A)\n",
    "    for i in range(n):\n",
    "        pivot = A[i][i]\n",
    "        A[i] = coef_sweeping(A[i], povot)\n",
    "        for j in range(i + 1, n):\n",
    "            p = A[j][i]\n",
    "            A[j] = sub()\n",
    "        "
   ]
  },
  {
   "cell_type": "code",
   "execution_count": null,
   "metadata": {},
   "outputs": [],
   "source": [
    "sweep(A)"
   ]
  }
 ],
 "metadata": {
  "kernelspec": {
   "display_name": "Python 3",
   "language": "python",
   "name": "python3"
  },
  "language_info": {
   "codemirror_mode": {
    "name": "ipython",
    "version": 3
   },
   "file_extension": ".py",
   "mimetype": "text/x-python",
   "name": "python",
   "nbconvert_exporter": "python",
   "pygments_lexer": "ipython3",
   "version": "3.8.3"
  }
 },
 "nbformat": 4,
 "nbformat_minor": 4
}
