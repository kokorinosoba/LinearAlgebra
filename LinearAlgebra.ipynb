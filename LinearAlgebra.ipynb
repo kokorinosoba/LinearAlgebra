{
 "cells": [
  {
   "cell_type": "markdown",
   "metadata": {},
   "source": [
    "# Linear Algebra"
   ]
  },
  {
   "cell_type": "markdown",
   "metadata": {},
   "source": [
    "## Chapter 1: Numerical vector space"
   ]
  },
  {
   "cell_type": "markdown",
   "metadata": {},
   "source": [
    "$x \\in A$: x is an **ELEMENT** of A  \n",
    "$A \\subseteq B$: A is **SUBSET** of B  \n",
    "$\\varnothing, \\emptyset$: Empty set  \n",
    "$A \\cap B$: Intersection  \n",
    "$A \\cup B$: Union  \n",
    "$A^c, \\overline{A} = \\{x \\in U \\mid x \\notin A\\}$: Complement  \n",
    "$A \\setminus B, A - B = \\{x \\mid x \\in A \\cap x \\notin B\\}$: Difference  \n",
    "$\\forall x$: All x  \n",
    "$\\exists x$: A x  "
   ]
  },
  {
   "cell_type": "markdown",
   "metadata": {},
   "source": [
    "### Vector Class"
   ]
  },
  {
   "cell_type": "code",
   "execution_count": null,
   "metadata": {},
   "outputs": [],
   "source": [
    "class vector(list):\n",
    "    \n",
    "    def __init__(self, __content__):\n",
    "        if not isinstance(__content__, list):\n",
    "            raise TypeError('入力はlist型のみでよろしく')\n",
    "        list.__init__(self, __content__)\n",
    "    \n",
    "    \n",
    "    def broadcast(func):\n",
    "        def inner(self, other):\n",
    "            if isinstance(other, (int, float)):\n",
    "                other = [other] * len(self)\n",
    "            if isinstance(other, list):\n",
    "                if len(self) != len(other):\n",
    "                    raise ArithmeticError('あれ？サイズ違うっぽくない？')\n",
    "                return func(self, other)\n",
    "            raise TypeError('なんか思ってたんとちゃう...!!!')\n",
    "        return inner\n",
    "    \n",
    "    \n",
    "    # 足し算\n",
    "    @broadcast\n",
    "    def __add__(self, other):\n",
    "        return vector([x + y for x, y in zip(self, other)])\n",
    "    \n",
    "    def __radd__(self, other):\n",
    "        return self.__add__(other)\n",
    "    \n",
    "    \n",
    "    # 引き算\n",
    "    @broadcast\n",
    "    def __sub__(self, other):\n",
    "        return vector([x - y for x, y in zip(self, other)])\n",
    "    \n",
    "    @broadcast\n",
    "    def __rsub__(self, other):\n",
    "        return vector([x - y for x, y in zip(other, self)])\n",
    "    \n",
    "    \n",
    "    # 掛け算\n",
    "    @broadcast\n",
    "    def __mul__(self, other):\n",
    "        return vector([x * y for x, y in zip(self, other)])\n",
    "    \n",
    "    def __rmul__(self, other):\n",
    "        return self.__mul__(other)\n",
    "    \n",
    "    \n",
    "    # 割り算\n",
    "    @broadcast\n",
    "    def __truediv__(self, other):\n",
    "        return vector([x / y for x, y in zip(self, other)])\n",
    "    \n",
    "    @broadcast\n",
    "    def __rtruediv__(self, other):\n",
    "        return vector([x / y for x, y in zip(other, self)])\n",
    "    \n",
    "    \n",
    "    # 累乗\n",
    "    @broadcast\n",
    "    def __pow__(self, other):\n",
    "        return vector([x ** y for x, y in zip(self, other)])\n",
    "    \n",
    "    \n",
    "    # 内積\n",
    "    def __matmul__(self, other):\n",
    "        if isinstance(other, matrix):\n",
    "            return matrix([self]) @ other\n",
    "        return sum(self.__mul__(other))\n",
    "    \n",
    "    def __rmatmul__(self, other):\n",
    "        return sum(self.__mul__(other))\n",
    "    \n",
    "    \n",
    "    def __str__(self):\n",
    "        return '[%s]' % (' '.join(map(str, self)))\n",
    "    \n",
    "    \n",
    "    def __repr__(self):\n",
    "        return '%s(%s)' % (self.__class__.__name__, super().__repr__())"
   ]
  },
  {
   "cell_type": "markdown",
   "metadata": {},
   "source": [
    "### Matrix Class"
   ]
  },
  {
   "cell_type": "code",
   "execution_count": null,
   "metadata": {},
   "outputs": [],
   "source": [
    "class MatrixShapeError(Exception):\n",
    "    pass"
   ]
  },
  {
   "cell_type": "code",
   "execution_count": null,
   "metadata": {},
   "outputs": [],
   "source": [
    "class matrix(list):\n",
    "    \n",
    "    @staticmethod\n",
    "    def zeros(n):\n",
    "        if isinstance(n, int):\n",
    "            return vector([0] * n)\n",
    "        if isinstance(n, tuple) and len(n) == 2:\n",
    "            return matrix([[0] * n[1]  for _ in range(n[0])])\n",
    "    \n",
    "    @staticmethod\n",
    "    def eye(n, m=None):\n",
    "        if isinstance(m, int):\n",
    "            return matrix([[int(ni == mi) for mi in range(m)] for ni in range(n)])\n",
    "        return matrix([[int(ni == mi) for mi in range(n)] for ni in range(n)])\n",
    "    \n",
    "    def __init__(self, __content__):\n",
    "        # 入力がlist型になっているかどうか判定\n",
    "        if not isinstance(__content__, list):\n",
    "            raise TypeError('入力はlist型のみでよろしく')\n",
    "        \n",
    "        # 入力が2次元配列になっているか判定\n",
    "        self.n = len(__content__)\n",
    "        if self.n == 0 or isinstance(__content__[0], (int, float)):\n",
    "            raise MatrixShapeError('ねぇキミ、Matrixの意味は知ってる？')\n",
    "        \n",
    "        # 入力の形がn * m行列になっているか判定\n",
    "        self.m = len(__content__[0])\n",
    "        for row in __content__:\n",
    "            if not len(row) == self.m:\n",
    "                raise MatrixShapeError('その行列、いびつなんだけど...!')\n",
    "        \n",
    "        list.__init__(self, map(vector, __content__))\n",
    "    \n",
    "    \n",
    "    def broadcast(func):\n",
    "        def inner(self, other):\n",
    "            if isinstance(other, (int, float)):\n",
    "                other = [[other] * len(self[0])] * len(self)\n",
    "            if isinstance(other, list):\n",
    "                if len(self) != len(other):\n",
    "                    raise ArithmeticError('あれ？サイズ違うっぽくない？')\n",
    "                return func(self, other)\n",
    "            raise TypeError('なんか思ってたんとちゃう...!!!')\n",
    "        return inner\n",
    "    \n",
    "    \n",
    "    # 足し算\n",
    "    @broadcast\n",
    "    def __add__(self, other):\n",
    "        return matrix([x + y for x, y in zip(self, other)])\n",
    "    \n",
    "    def __radd__(self, other):\n",
    "        return self.__add__(other)\n",
    "    \n",
    "    \n",
    "    # 引き算\n",
    "    @broadcast\n",
    "    def __sub__(self, other):\n",
    "        return matrix([x - y for x, y in zip(self, other)])\n",
    "    \n",
    "    @broadcast\n",
    "    def __rsub__(self, other):\n",
    "        return matrix([x - y for x, y in zip(other, self)])\n",
    "    \n",
    "    \n",
    "    # 掛け算\n",
    "    @broadcast\n",
    "    def __mul__(self, other):\n",
    "        return matrix([x * y for x, y in zip(self, other)])\n",
    "    \n",
    "    def __rmul__(self, other):\n",
    "        return self.__mul__(other)\n",
    "    \n",
    "    \n",
    "    # 割り算\n",
    "    @broadcast\n",
    "    def __truediv__(self, other):\n",
    "        return matrix([x / y for x, y in zip(self, other)])\n",
    "    \n",
    "    @broadcast\n",
    "    def __rtruediv__(self, other):\n",
    "        return matrix([x / y for x, y in zip(other, self)])\n",
    "    \n",
    "    \n",
    "    # 累乗\n",
    "    @broadcast\n",
    "    def __pow__(self, other):\n",
    "        return matrix([x ** y for x, y in zip(self, other)])\n",
    "    \n",
    "    \n",
    "    # 行列積\n",
    "    def __matmul__(self, other):\n",
    "        if isinstance(other, matrix):\n",
    "            if self.m == other.n:\n",
    "                other = other.transpose()\n",
    "                return matrix([[o @ s for o in other] for s in self])\n",
    "            else:\n",
    "                raise ArithmeticError('行列のサイズが違うんだけど')\n",
    "        raise TypeError('行列としか計算できないよ')\n",
    "    \n",
    "    \n",
    "    def row(self, n):\n",
    "        return vector(self[n])\n",
    "    \n",
    "    def col(self, n):\n",
    "        return vector([vec[n] for vec in self])\n",
    "    \n",
    "    def transpose(self):\n",
    "        return matrix([[vec[i] for vec in self] for i in range(self.m)])\n",
    "    \n",
    "    def sliceitem(self, r, c):\n",
    "        r = slice(r, r + 1, None) if isinstance(r, int) else r\n",
    "        c = slice(c, c + 1, None) if isinstance(c, int) else c\n",
    "        disp = matrix([self.row(ri) for ri in range(self.n)[r]])\n",
    "        disp = matrix([disp.col(ci) for ci in range(self.m)[c]])\n",
    "        return disp.transpose()\n",
    "    \n",
    "    # 要素の取得\n",
    "    def __getitem__(self, idx):\n",
    "        if isinstance(idx, (int, slice)):\n",
    "            return vector(self.disp()[idx])\n",
    "        if isinstance(idx, tuple) and len(idx) == 2:\n",
    "            i, j = idx\n",
    "            if isinstance(i, int) and isinstance(j, int):\n",
    "                return self.disp()[i][j]\n",
    "            return self.sliceitem(i, j)\n",
    "        raise IndexError('ちょっとインデックス多い気がするんだけど')\n",
    "    \n",
    "    def disp(self):\n",
    "        return [list(x) for x in self]\n",
    "    \n",
    "    def __str__(self):\n",
    "        return '%s' % self.disp()\n",
    "    \n",
    "    def __repr__(self):\n",
    "        return '%s(%s)' % (self.__class__.__name__, self.disp())"
   ]
  },
  {
   "cell_type": "markdown",
   "metadata": {},
   "source": [
    "### Operation Checking"
   ]
  },
  {
   "cell_type": "markdown",
   "metadata": {},
   "source": [
    "#### Vector Calculation"
   ]
  },
  {
   "cell_type": "code",
   "execution_count": null,
   "metadata": {},
   "outputs": [],
   "source": [
    "A = vector([1, 2, 3])\n",
    "B = vector([3, 3, 2])"
   ]
  },
  {
   "cell_type": "code",
   "execution_count": null,
   "metadata": {},
   "outputs": [],
   "source": [
    "A + 10 + 5"
   ]
  },
  {
   "cell_type": "code",
   "execution_count": null,
   "metadata": {},
   "outputs": [],
   "source": [
    "10 + (5 + A)"
   ]
  },
  {
   "cell_type": "code",
   "execution_count": null,
   "metadata": {},
   "outputs": [],
   "source": [
    "A - 1 - 2"
   ]
  },
  {
   "cell_type": "code",
   "execution_count": null,
   "metadata": {},
   "outputs": [],
   "source": [
    "10 - (3 - A)"
   ]
  },
  {
   "cell_type": "code",
   "execution_count": null,
   "metadata": {},
   "outputs": [],
   "source": [
    "A * 2 * 1"
   ]
  },
  {
   "cell_type": "code",
   "execution_count": null,
   "metadata": {},
   "outputs": [],
   "source": [
    "1 * (2 * A)"
   ]
  },
  {
   "cell_type": "code",
   "execution_count": null,
   "metadata": {},
   "outputs": [],
   "source": [
    "A / 2 / 1"
   ]
  },
  {
   "cell_type": "code",
   "execution_count": null,
   "metadata": {},
   "outputs": [],
   "source": [
    "15 / (3 / A)"
   ]
  },
  {
   "cell_type": "code",
   "execution_count": null,
   "metadata": {},
   "outputs": [],
   "source": [
    "A + B"
   ]
  },
  {
   "cell_type": "code",
   "execution_count": null,
   "metadata": {},
   "outputs": [],
   "source": [
    "A - B"
   ]
  },
  {
   "cell_type": "code",
   "execution_count": null,
   "metadata": {},
   "outputs": [],
   "source": [
    "B - A"
   ]
  },
  {
   "cell_type": "code",
   "execution_count": null,
   "metadata": {},
   "outputs": [],
   "source": [
    "A * B"
   ]
  },
  {
   "cell_type": "code",
   "execution_count": null,
   "metadata": {},
   "outputs": [],
   "source": [
    "A / B"
   ]
  },
  {
   "cell_type": "code",
   "execution_count": null,
   "metadata": {},
   "outputs": [],
   "source": [
    "B / A"
   ]
  },
  {
   "cell_type": "code",
   "execution_count": null,
   "metadata": {},
   "outputs": [],
   "source": [
    "A @ B"
   ]
  },
  {
   "cell_type": "code",
   "execution_count": null,
   "metadata": {},
   "outputs": [],
   "source": [
    "A @ B[::-1]"
   ]
  },
  {
   "cell_type": "markdown",
   "metadata": {},
   "source": [
    "#### Matrix Calculation"
   ]
  },
  {
   "cell_type": "code",
   "execution_count": null,
   "metadata": {},
   "outputs": [],
   "source": [
    "A = matrix([[1, 2], [3, 4]])\n",
    "B = matrix([[5, 6], [7, 8]])"
   ]
  },
  {
   "cell_type": "code",
   "execution_count": null,
   "metadata": {},
   "outputs": [],
   "source": [
    "2 + A + 1"
   ]
  },
  {
   "cell_type": "code",
   "execution_count": null,
   "metadata": {},
   "outputs": [],
   "source": [
    "3 - A - 1"
   ]
  },
  {
   "cell_type": "code",
   "execution_count": null,
   "metadata": {},
   "outputs": [],
   "source": [
    "1 * A * 2"
   ]
  },
  {
   "cell_type": "code",
   "execution_count": null,
   "metadata": {},
   "outputs": [],
   "source": [
    "A / 2"
   ]
  },
  {
   "cell_type": "code",
   "execution_count": null,
   "metadata": {},
   "outputs": [],
   "source": [
    "12 / A"
   ]
  },
  {
   "cell_type": "code",
   "execution_count": null,
   "metadata": {},
   "outputs": [],
   "source": [
    "A + B"
   ]
  },
  {
   "cell_type": "code",
   "execution_count": null,
   "metadata": {},
   "outputs": [],
   "source": [
    "A - B"
   ]
  },
  {
   "cell_type": "code",
   "execution_count": null,
   "metadata": {},
   "outputs": [],
   "source": [
    "B - A"
   ]
  },
  {
   "cell_type": "code",
   "execution_count": null,
   "metadata": {},
   "outputs": [],
   "source": [
    "A * B"
   ]
  },
  {
   "cell_type": "code",
   "execution_count": null,
   "metadata": {},
   "outputs": [],
   "source": [
    "A / B"
   ]
  },
  {
   "cell_type": "code",
   "execution_count": null,
   "metadata": {},
   "outputs": [],
   "source": [
    "B / A"
   ]
  },
  {
   "cell_type": "code",
   "execution_count": null,
   "metadata": {},
   "outputs": [],
   "source": [
    "A @ B"
   ]
  },
  {
   "cell_type": "code",
   "execution_count": null,
   "metadata": {},
   "outputs": [],
   "source": [
    "B @ A"
   ]
  },
  {
   "cell_type": "code",
   "execution_count": null,
   "metadata": {},
   "outputs": [],
   "source": [
    "A.transpose()"
   ]
  },
  {
   "cell_type": "code",
   "execution_count": null,
   "metadata": {},
   "outputs": [],
   "source": [
    "matrix.zeros(10)"
   ]
  },
  {
   "cell_type": "code",
   "execution_count": null,
   "metadata": {},
   "outputs": [],
   "source": [
    "matrix.zeros((3, 4))"
   ]
  },
  {
   "cell_type": "code",
   "execution_count": null,
   "metadata": {},
   "outputs": [],
   "source": [
    "matrix.eye(3)"
   ]
  },
  {
   "cell_type": "code",
   "execution_count": null,
   "metadata": {},
   "outputs": [],
   "source": [
    "matrix.eye(2,5)"
   ]
  },
  {
   "cell_type": "markdown",
   "metadata": {},
   "source": [
    "## Chapter2: Sweep Method"
   ]
  },
  {
   "cell_type": "code",
   "execution_count": null,
   "metadata": {},
   "outputs": [],
   "source": [
    "import numpy as np"
   ]
  },
  {
   "cell_type": "code",
   "execution_count": null,
   "metadata": {},
   "outputs": [],
   "source": [
    "A = np.array([\n",
    "    [0, -1, -2, 2, 5],\n",
    "    [2, -1, -3, 3, 10],\n",
    "    [-1, 3, 3, -2, 2],\n",
    "    [1, 2, 0, -1, -10]\n",
    "], dtype=float)"
   ]
  },
  {
   "cell_type": "code",
   "execution_count": null,
   "metadata": {},
   "outputs": [],
   "source": [
    "def sweep(A):\n",
    "    n = len(A)\n",
    "    \n",
    "    for i in range(n):\n",
    "        # 部分ピボット選択\n",
    "        A = A[np.concatenate([np.array(range(i), dtype=int), np.argsort(np.abs(A[i:,i]))[::-1] + i])]\n",
    "        \n",
    "        pivot = A[i, i]\n",
    "        \n",
    "        if pivot == 0:\n",
    "            raise ZeroDivisionError('ちょ、おまｗｗｗ0で割ってるｗｗｗ')\n",
    "        \n",
    "        A[i] = A[i] / pivot\n",
    "        \n",
    "        for j in range(i + 1, n):\n",
    "            coef = A[j, i]\n",
    "            A[j] -=  A[i] * coef\n",
    "    \n",
    "    for i in range(n)[::-1]:\n",
    "        for j in range(i):\n",
    "            coef = A[j, i]\n",
    "            A[j] -= A[i] * coef\n",
    "    \n",
    "    return A"
   ]
  },
  {
   "cell_type": "code",
   "execution_count": null,
   "metadata": {},
   "outputs": [],
   "source": [
    "sweep(A)"
   ]
  }
 ],
 "metadata": {
  "kernelspec": {
   "display_name": "Python 3",
   "language": "python",
   "name": "python3"
  },
  "language_info": {
   "codemirror_mode": {
    "name": "ipython",
    "version": 3
   },
   "file_extension": ".py",
   "mimetype": "text/x-python",
   "name": "python",
   "nbconvert_exporter": "python",
   "pygments_lexer": "ipython3",
   "version": "3.8.3"
  }
 },
 "nbformat": 4,
 "nbformat_minor": 4
}
